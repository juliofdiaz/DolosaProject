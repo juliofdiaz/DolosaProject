{
 "cells": [
  {
   "cell_type": "code",
   "execution_count": null,
   "metadata": {
    "collapsed": true
   },
   "outputs": [],
   "source": [
    "# Go to sequencingqc folder\n",
    "cd sequencingqc"
   ]
  },
  {
   "cell_type": "code",
   "execution_count": null,
   "metadata": {
    "collapsed": true
   },
   "outputs": [],
   "source": [
    "# Running Trimmomatic\n",
    "for i in `cat ../../doc/IdList.txt`;do java -jar ../../bin/Trimmomatic-0.38/trimmomatic-0.38.jar PE -phred33 \"../decontamination/\"$i\"_1.dcn.fq\" \"../decontamination/\"$i\"_2.dcn.fq\" $i\"_1.tmp.fq\" $i\"_1.tmu.fq\" $i\"_2.tmp.fq\" $i\"_2.tmu.fq\" ILLUMINACLIP:../../doc/adapters.fa:2:30:10 LEADING:3 TRAILING:3 SLIDINGWINDOW:4:15 MINLEN:36;done"
   ]
  }
 ],
 "metadata": {
  "kernelspec": {
   "display_name": "Bash",
   "language": "bash",
   "name": "bash"
  },
  "language_info": {
   "codemirror_mode": "shell",
   "file_extension": ".sh",
   "mimetype": "text/x-sh",
   "name": "bash"
  }
 },
 "nbformat": 4,
 "nbformat_minor": 2
}
