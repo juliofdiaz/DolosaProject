{
 "cells": [
  {
   "cell_type": "markdown",
   "metadata": {},
   "source": [
    "<h2>COVERAGE OVER LENGTH PLOTS FOR ALL ASSEMBLIES</h2>\n",
    "<p>Figures can be located at:\n",
    "<ul>\n",
    "<li>Contig Coverage over Legth for each assembly can be found in: <b>figures/AssemblyCoverageOverLength_all.pdf</b></li>\n",
    "<li>Summary of all assemblies can be found in <b>figures/AssemblySummary_all.pdf</b></li>\n",
    "</ul>\n",
    "</p>"
   ]
  },
  {
   "cell_type": "code",
   "execution_count": 1,
   "metadata": {
    "collapsed": true
   },
   "outputs": [],
   "source": [
    "library(tools)"
   ]
  },
  {
   "cell_type": "code",
   "execution_count": 47,
   "metadata": {
    "collapsed": false
   },
   "outputs": [
    {
     "data": {
      "text/html": [
       "<strong>pdf:</strong> 2"
      ],
      "text/latex": [
       "\\textbf{pdf:} 2"
      ],
      "text/markdown": [
       "**pdf:** 2"
      ],
      "text/plain": [
       "pdf \n",
       "  2 "
      ]
     },
     "metadata": {},
     "output_type": "display_data"
    }
   ],
   "source": [
    "# Set canvas to draw plot \n",
    "pdf(\"../figures/AssemblyCoverageOverLength_all.pdf\", width=50, height=40)\n",
    "par(mfrow=c(8,10))\n",
    "\n",
    "# Loop through data from each isolate\n",
    "con = file(\"../doc/IdList.txt\", \"r\")\n",
    "while ( TRUE ) {\n",
    "    line = readLines(con, n = 1)\n",
    "    if ( length(line) == 0 ) {\n",
    "        break\n",
    "    }\n",
    "    # Name of the file\n",
    "    file <- paste(\"../results/spades/\",line,\"/AssemblyMetrics.tsv\",sep=\"\")\n",
    "    # Parse name for the title\n",
    "    fileName <- file_path_sans_ext(file)\n",
    "    fileName <- strsplit(fileName,'/')[[1]]\n",
    "    # Get the data\n",
    "    data <- as.data.frame(read.delim(file, sep=\"\\t\", as.is=T, header=TRUE))\n",
    "    # Draw plot\n",
    "    plot(log10(data$ContigLength), log10(data$ContigCoverage), pch=21, cex=0.8, col=\"black\", bg=\"grey\", xlab=\"Contig Length (log)\", ylab=\"Contig Coverage (log)\",las=1, main=fileName[[4]], ylim=c(min(0),max(4.5)))\n",
    "}\n",
    "\n",
    "close(con)\n",
    "\n",
    "dev.off()"
   ]
  },
  {
   "cell_type": "markdown",
   "metadata": {},
   "source": [
    "<h2>ASSEMBLY OVER N50 FOR ALL ASSEMBLIES</h2>"
   ]
  },
  {
   "cell_type": "code",
   "execution_count": 22,
   "metadata": {
    "collapsed": true
   },
   "outputs": [],
   "source": [
    "# Get the data\n",
    "data_all <- as.data.frame(read.delim(\"../results/quast/AssemblySummary.tsv\", sep=\"\\t\", as.is=T, header=TRUE))"
   ]
  },
  {
   "cell_type": "code",
   "execution_count": 46,
   "metadata": {
    "collapsed": false
   },
   "outputs": [
    {
     "data": {
      "text/html": [
       "<strong>pdf:</strong> 2"
      ],
      "text/latex": [
       "\\textbf{pdf:} 2"
      ],
      "text/markdown": [
       "**pdf:** 2"
      ],
      "text/plain": [
       "pdf \n",
       "  2 "
      ]
     },
     "metadata": {},
     "output_type": "display_data"
    }
   ],
   "source": [
    "#Draw plot\n",
    "pdf(\"../figures/AssemblySummary_all.pdf\")\n",
    "plot(log10(data_all$N50), log10(data_all$TotalLength), pch=21,las=1, col=\"black\", bg=\"grey\",xlab=\"Assembly N50 (log)\", ylab=\"Assembly Length (log)\")\n",
    "dev.off()"
   ]
  },
  {
   "cell_type": "code",
   "execution_count": null,
   "metadata": {
    "collapsed": true
   },
   "outputs": [],
   "source": []
  }
 ],
 "metadata": {
  "kernelspec": {
   "display_name": "R",
   "language": "R",
   "name": "ir"
  },
  "language_info": {
   "codemirror_mode": "r",
   "file_extension": ".r",
   "mimetype": "text/x-r-source",
   "name": "R",
   "pygments_lexer": "r",
   "version": "3.5.1"
  }
 },
 "nbformat": 4,
 "nbformat_minor": 2
}
