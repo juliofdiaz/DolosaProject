{
 "cells": [
  {
   "cell_type": "markdown",
   "metadata": {},
   "source": [
    "<h1>REMOVE PUTATIVE CONTAMINATION READS</h1>\n",
    "<p>These steps are set to remove reads that are flagged as potential contaminators.\n",
    "<ol>\n",
    "<li>Blast contigs to nt Database.</li>\n",
    "<li>Mapping sequencing reads to <i>de novo</i> assembly.</li>\n",
    "<li>Parse blast results.</li>\n",
    "<li>Identify contigs to be removed.</li>\n",
    "<li>Identify reads to be removed.</li>\n",
    "<li>Removed flagged reads.</li>\n",
    "</ol>\n",
    "The programs Blast<sup>1</sup> and BWA<sup>2</sup> are required to complete these steps. The results are located at:\n",
    "<ul>\n",
    "<li>Decontaminated seequencing reads can be found in <b>results/decontamination/&lt;ISOLATE_ID&gt;_1.dcn.fq</b> & <b>results/decontamination/&lt;ISOLATE_ID&gt;_2.dcn.fq</b> </li>\n",
    "<li>Summary of reads removed can be found in <b>results/decontamination/ContaminationRemovalSummary.tsv</b></li>\n",
    "<li>Decontaminated assemblies can be found in <b>results/spades/&lt;ISOLATE_ID&gt;/&lt;ISOLATE_ID&gt;.dcn.fa</b></li>\n",
    "<li>Summary of assemblies without contaminant contigs <b>results/quast/AssemblyMetrics.dcn.tsv</b></li>\n",
    "</ul>\n",
    "</p>"
   ]
  },
  {
   "cell_type": "markdown",
   "metadata": {},
   "source": [
    "<h2>1 BLAST CONTIGS TO nt DATABASE</h2>\n",
    "<p>In order to blast contigs to nt database, the nt database may be downloaded. Otherwise, the blast needs to use the nt database remotely (See Blast manual for this). If downloading the nt database to a scinet location, make sure to use the datamover node of scinet. We employed Blast v. 2.8.1<sup>1</sup></p>\n",
    "<h3>1.1 RETRIEVE NCBI's nt DATABASE</h3>"
   ]
  },
  {
   "cell_type": "code",
   "execution_count": null,
   "metadata": {
    "collapsed": true
   },
   "outputs": [],
   "source": [
    "# Go to database folder\n",
    "cd data/database/ncbi"
   ]
  },
  {
   "cell_type": "code",
   "execution_count": null,
   "metadata": {
    "collapsed": true
   },
   "outputs": [],
   "source": [
    "#Download nt database. This will take a long time and use a lot of bandwidth.\n",
    "../../bin/ncbi-blast-2.8.1+/bin/update_blastdb.pl --decompress nt"
   ]
  },
  {
   "cell_type": "markdown",
   "metadata": {},
   "source": [
    "<h3>1.2 PERFORM BLAST</h3>"
   ]
  },
  {
   "cell_type": "code",
   "execution_count": null,
   "metadata": {
    "collapsed": true
   },
   "outputs": [],
   "source": [
    "#Go to the decontamination folder\n",
    "cd ../../../results/decontamination/"
   ]
  },
  {
   "cell_type": "markdown",
   "metadata": {},
   "source": [
    "<h4>1.2a SUBMIT TO SCINET</h4>"
   ]
  },
  {
   "cell_type": "code",
   "execution_count": null,
   "metadata": {
    "collapsed": true
   },
   "outputs": [],
   "source": [
    "#Create blast jobs\n",
    "for i in `cat ../../doc/IdList.txt`;do echo -e '#!/bin/bash'\"\\n#SBATCH --nodes=1\\n#SBATCH --cpus-per-task=40\\n#SBATCH --time=3:00:00\\n#SBATCH --job-name=deconBlast_jobs-$i\\n#SBATCH --output=deconBlast_job-$i\\nexport BLASTDB=../../data/database/ncbi/\" > deconBlastJob_$i.sh; echo ../../bin/ncbi-blast-2.8.1+/bin/blastn -query ../spades/$i/$i.fa -outfmt \"'\"10 qacc sacc pident length mismatch gapopen qstart qend sstart send evalue bitscore staxids sscinames scomnames sblastnames sskingdoms\"'\" -db nt -num_threads 40 -out $i\".blast\" >> deconBlastJob_$i.sh; done"
   ]
  },
  {
   "cell_type": "code",
   "execution_count": null,
   "metadata": {
    "collapsed": true
   },
   "outputs": [],
   "source": [
    "#Submit blast jobs\n",
    "for i in `cat ../../doc/IdList.txt`; do sbatch deconBlastJob_$i.sh;done"
   ]
  },
  {
   "cell_type": "markdown",
   "metadata": {},
   "source": [
    "<h4>1.2b OR RUN LOCALLY (THIS WILL TAKE A LONG TIME)</h4>"
   ]
  },
  {
   "cell_type": "code",
   "execution_count": null,
   "metadata": {
    "collapsed": true
   },
   "outputs": [],
   "source": [
    "#Set datahase system variable\n",
    "export BLASTDB=../../data/database/ncbi/"
   ]
  },
  {
   "cell_type": "code",
   "execution_count": null,
   "metadata": {
    "collapsed": true
   },
   "outputs": [],
   "source": [
    "#Blast each contig against nt database\n",
    "for i in `cat ../../doc/IdList.txt`;do ../../bin/ncbi-blast-2.8.1+/bin/blastn -query ../spades/$i/$i.fa -outfmt '10 qacc sacc pident length mismatch gapopen qstart qend sstart send evalue bitscore staxids sscinames scomnames sblastnames sskingdoms' -db nt -num_threads 4 -out $i\".blast\"; done"
   ]
  },
  {
   "cell_type": "markdown",
   "metadata": {},
   "source": [
    "<h2>2 MAPPING SEQUENCING READS TO Spades ASSEMBLY</h2>\n",
    "<p>The sequencing reads of each isolate are mapped to the contigs of their respective assemblies. This step is performed in order to figure out which sequencing reads are part of which contigs. We employed BWA v.0.17<sup>2</sup></p>"
   ]
  },
  {
   "cell_type": "markdown",
   "metadata": {},
   "source": [
    "<h3>2a SUBMIT TO SCINET</h3>"
   ]
  },
  {
   "cell_type": "code",
   "execution_count": null,
   "metadata": {
    "collapsed": true
   },
   "outputs": [],
   "source": [
    "#Create BWA jobs\n",
    "for i in `cat ../../doc/IdList.txt`;do echo -e '#!/bin/bash'\"\\n#SBATCH --nodes=1\\n#SBATCH --cpus-per-task=40\\n#SBATCH --time=1:00:00\\n#SBATCH --job-name=deconBwa_jobs-$i\\n#SBATCH --output=deconBwa_job-$i\" > deconBwaJob_$i.sh; echo ../../bin/bwa-0.7.17/bwa index ../../results/spades/$i/$i.fa >> deconBwaJob_$i.sh; echo ../../bin/bwa-0.7.17/bwa mem -t 40 ../../results/spades/$i/$i.fa ../dedupper/$i\"_1.ddp.fq\" ../dedupper/$i\"_2.ddp.fq  > \"$i\".sam\" >> deconBwaJob_$i.sh; done"
   ]
  },
  {
   "cell_type": "code",
   "execution_count": null,
   "metadata": {
    "collapsed": true
   },
   "outputs": [],
   "source": [
    "#Submit bwa job to scinet\n",
    "for i in `cat ../../doc/IdList.txt`;do sbatch deconBwaJob_$i.sh; done"
   ]
  },
  {
   "cell_type": "markdown",
   "metadata": {},
   "source": [
    "<h3>2b OR RUN LOCALLY (THIS WILL TAKE A LONG TIME)</h3>"
   ]
  },
  {
   "cell_type": "code",
   "execution_count": null,
   "metadata": {
    "collapsed": true
   },
   "outputs": [],
   "source": [
    "#Index the Spades assembly and map reads to that genome\n",
    "for i in `cat ../../doc/IdList.txt`; do ../../bin/bwa-0.7.17/bwa index ../../results/spades/$i/$i.fa; echo ../../bin/bwa-0.7.17/bwa mem -t 40 ../../results/spades/$i/$i.fa ../dedupper/$i\"_1.ddp.fq\" ../dedupper/$i\"_2.ddp.fq\"  > $i.sam; done"
   ]
  },
  {
   "cell_type": "markdown",
   "metadata": {},
   "source": [
    "<h2>3 PARSE BLAST RESULTS</h2>\n",
    "<p>This step checks if the contig has a blast hit in the Burkholderia genus. It identifies non-Burkholderia contigs and marks them appropriately. Once this step is completed the results can be plotted with the R jupyter notebook \"<b>4a_CoverageOverLengthPlots</b>\".</p>"
   ]
  },
  {
   "cell_type": "code",
   "execution_count": null,
   "metadata": {
    "collapsed": true
   },
   "outputs": [],
   "source": [
    "# Identify which contigs map to a genus other than Burkholderia\n",
    "for i in `cat ../../doc/IdList.txt`;do ../../bin/blast_parser.py $i\".blast\" \"../spades/\"$i\"/AssemblyMetrics.tsv\" Burkholderia \"ParsedAssemblyMetrics_\"$i\".csv\";done"
   ]
  },
  {
   "cell_type": "markdown",
   "metadata": {},
   "source": [
    "<h2>4 IDENTIFY CONTIGS TO BE REMOVED</h2>\n",
    "<p>This step creates a list of contigs which have a coverage lower than 10 and that have been flagged as not from the desired genus. The input HAS to be the \"<b>ParsedAssemblyMetrics_*.csv</b>\" file, which is the result from the previous step.</p>"
   ]
  },
  {
   "cell_type": "code",
   "execution_count": null,
   "metadata": {
    "collapsed": true
   },
   "outputs": [],
   "source": [
    "for i in `cat ../../doc/IdList.txt`; do ../../bin/contig_localizer.py \"ParsedAssemblyMetrics_\"$i\".csv\" 10 \"ContigsToBeRemoved_\"$i\".txt\";done"
   ]
  },
  {
   "cell_type": "markdown",
   "metadata": {
    "collapsed": true
   },
   "source": [
    "<h2>5 INDENTIFY READS TO BE REMOVED</h2>\n",
    "<p>This step identifies reads that map to the contigs to be removed and creates a list of these reads. The input has to be the \"<b>ContigsToBeRemoved_*.txt</b>\" file, which is result from the previous step.</p>"
   ]
  },
  {
   "cell_type": "code",
   "execution_count": null,
   "metadata": {
    "collapsed": true
   },
   "outputs": [],
   "source": [
    "for i in `cat ../../doc/IdList.txt`;do ../../bin/read_localizer.py \"ContigsToBeRemoved_\"$i\".txt\" $i\".sam\" \"ReadsToBeRemoved_\"$i\".txt\";done"
   ]
  },
  {
   "cell_type": "markdown",
   "metadata": {
    "collapsed": true
   },
   "source": [
    "<h2>6 REMOVED FLAGGED READS</h2>\n",
    "<p>This removes the reads found in the list \"<b>ReadsToBeRemoved_*.txt</b>\", which is produced in the previous step.</p>"
   ]
  },
  {
   "cell_type": "code",
   "execution_count": null,
   "metadata": {
    "collapsed": true
   },
   "outputs": [],
   "source": [
    "for i in `cat ../../doc/IdList.txt`;do ../../bin/read_remover.py \"ReadsToBeRemoved_\"$i\".txt\" \"../dedupper/\"$i\"_1.ddp.fq\" \"../dedupper/\"$i\"_2.ddp.fq\" $i\"_1.dcn.fq\" $i\"_2.dcn.fq\" ;done"
   ]
  },
  {
   "cell_type": "markdown",
   "metadata": {},
   "source": [
    "<h2>7 SUMMARIZE</h2>\n",
    "<p>Record the number of reads and bases left over after removing potential contamination reads.</p>"
   ]
  },
  {
   "cell_type": "code",
   "execution_count": null,
   "metadata": {
    "collapsed": true
   },
   "outputs": [],
   "source": [
    "echo -e \"IsolateId\\tReadOneCount\\tReadTwoCount\\tBaseCountOne\\tBaseCountTwo\" > ContaminationRemovalSummary.tsv \n",
    "for i in `cat ../../doc/IdList.txt`; do RN_1=`awk -v I=$i 'NR%4==1' $i\"_1.dcn.fq\" | wc -l`;RN_2=`awk -v I=$i 'NR%4==1' $i\"_2.dcn.fq\" | wc -l`;BC_1=`awk -v I=$i 'NR%4==2 {printf $1}' $i\"_1.dcn.fq\" | wc -m`;BC_2=`awk -v I=$i 'NR%4==2 {printf $1}' $i\"_2.dcn.fq\"| wc -m`; echo -e $i\"\\t\"$RN_1\"\\t\"$RN_2\"\\t\"$BC_1\"\\t\"$BC_2; done >> ContaminationRemovalSummary.tsv"
   ]
  },
  {
   "cell_type": "markdown",
   "metadata": {},
   "source": [
    "Remove putative contaminant contigs from their respective <i>de novo</i> assemblies."
   ]
  },
  {
   "cell_type": "code",
   "execution_count": null,
   "metadata": {
    "collapsed": true
   },
   "outputs": [],
   "source": [
    "for i in `cat ../../doc/IdList.txt`;do ../../bin/contig_remover.py \"ContigsToBeRemoved_\"$i\".txt\" \"../../results/spades/\"$i\"/\"$i\".fa\" \"../../results/spades/\"$i\"/\"$i\".dcn.fa\"; don"
   ]
  },
  {
   "cell_type": "markdown",
   "metadata": {},
   "source": [
    "Calculate metrics on the assemblies given the removed contigs. We employed quast v 5.0.2<sup>3</sup>."
   ]
  },
  {
   "cell_type": "code",
   "execution_count": null,
   "metadata": {
    "collapsed": true
   },
   "outputs": [],
   "source": [
    "# Go into the quast directory\n",
    "cd ../quast\n",
    "\n",
    "# Executing quast\n",
    "for i in `cat ../../doc/IdList.txt`;do ../../bin/quast-5.0.2/quast.py -m 1000 ../spades/$i/$i.dcn.fa -o $i.dcn; done\n",
    "\n",
    "# Summarizing assembly metrics\n",
    "echo -e \"Isolate\\tContigCount\\tTotalLength\\tN50\" >> AssemblySummary.dcn.tsv\n",
    "for i in `cat ../../doc/IdList.txt`;do contig=`sed '5q;d' $i.dcn/report.txt | awk '{print $6}'`; length=`sed '11q;d' $i.dcn/report.txt | awk '{print $6}'`; n50=`sed '20q;d' $i.dcn/report.txt | awk '{print $2}'`; echo -e $i\"\\t\"$contig\"\\t\"$length\"\\t\"$n50;done >> AssemblySummary.dcn.tsv"
   ]
  },
  {
   "cell_type": "markdown",
   "metadata": {},
   "source": [
    "<h4>NEXT STEPS</h4>\n",
    "<p>Quality control of reads. Additionally the new assembly metrics (post contamination removal) can be plotted using the script in \"<b>4b_PostDecontaminationAssemblyPlots</b>\".</p>"
   ]
  },
  {
   "cell_type": "markdown",
   "metadata": {
    "collapsed": true
   },
   "source": [
    "<sup>1</sup> https://blast.ncbi.nlm.nih.gov/Blast.cgi?CMD=Web&PAGE_TYPE=BlastDocs&DOC_TYPE=Download\n",
    "<br><sup>2</sup> http://bio-bwa.sourceforge.net\n",
    "<br><sup>3</sup> http://quast.bioinf.spbau.ru"
   ]
  },
  {
   "cell_type": "code",
   "execution_count": null,
   "metadata": {
    "collapsed": true
   },
   "outputs": [],
   "source": []
  }
 ],
 "metadata": {
  "kernelspec": {
   "display_name": "Bash",
   "language": "bash",
   "name": "bash"
  },
  "language_info": {
   "codemirror_mode": "shell",
   "file_extension": ".sh",
   "mimetype": "text/x-sh",
   "name": "bash"
  }
 },
 "nbformat": 4,
 "nbformat_minor": 2
}
