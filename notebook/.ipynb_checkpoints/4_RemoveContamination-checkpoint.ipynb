{
 "cells": [
  {
   "cell_type": "markdown",
   "metadata": {},
   "source": [
    "<h1>REMOVE PUTATIVE CONTAMINATION READS</h1>\n",
    "<p>Blast contig\n",
    "</p>"
   ]
  },
  {
   "cell_type": "markdown",
   "metadata": {},
   "source": [
    "<h2>1 BLAST CONTIGS TO nt DATABASE</h2>\n",
    "<p>In order to blast contigs to nt database, the nt database may be downloaded. Otherwise, the blast needs to use the nt database remotely (See Blast manual for this). If downloading the nt database to a scinet location, make sure to use the datamover node of scinet.</p>\n",
    "<h3>1.1 RETRIEVE NCBI's nt DATABASE</h3>"
   ]
  },
  {
   "cell_type": "code",
   "execution_count": null,
   "metadata": {
    "collapsed": true
   },
   "outputs": [],
   "source": [
    "# Go to database folder\n",
    "cd data/database/ncbi"
   ]
  },
  {
   "cell_type": "code",
   "execution_count": null,
   "metadata": {
    "collapsed": true
   },
   "outputs": [],
   "source": [
    "#Download nt database. This will take a long time and use a lot of bandwidth.\n",
    "../../bin/ncbi-blast-2.8.1+/bin/update_blastdb.pl --decompress nt"
   ]
  },
  {
   "cell_type": "markdown",
   "metadata": {},
   "source": [
    "<h3>1.2 PERFORM BLAST</h3>"
   ]
  },
  {
   "cell_type": "code",
   "execution_count": null,
   "metadata": {
    "collapsed": true
   },
   "outputs": [],
   "source": [
    "#Go to the decontamination folder\n",
    "cd ../../../results/decontamination/"
   ]
  },
  {
   "cell_type": "markdown",
   "metadata": {},
   "source": [
    "<h4>1.2a SUBMIT TO SCINET</h4>"
   ]
  },
  {
   "cell_type": "code",
   "execution_count": null,
   "metadata": {
    "collapsed": true
   },
   "outputs": [],
   "source": [
    "#Create blast jobs\n",
    "for i in `cat ../../doc/IdList.txt`;do echo -e '#!/bin/bash'\"\\n#SBATCH --nodes=1\\n#SBATCH --cpus-per-task=40\\n#SBATCH --time=3:00:00\\n#SBATCH --job-name=deconBlast_jobs-$i\\n#SBATCH --output=deconBlast_job-$i\\nexport BLASTDB=../../data/database/ncbi/\" > deconBlastJob_$i.sh; echo ../../bin/ncbi-blast-2.8.1+/bin/blastn -query ../spades/$i/$i.fa -outfmt \"'\"10 qacc sacc pident length mismatch gapopen qstart qend sstart send evalue bitscore staxids sscinames scomnames sblastnames sskingdoms\"'\" -db nt -num_threads 40 -out $i\".blast\" >> deconBlastJob_$i.sh; done"
   ]
  },
  {
   "cell_type": "code",
   "execution_count": null,
   "metadata": {
    "collapsed": true
   },
   "outputs": [],
   "source": [
    "#Submit blast jobs\n",
    "for i in `cat ../../doc/IdList.txt`; do sbatch deconBlastJob_$i.sh;done"
   ]
  },
  {
   "cell_type": "markdown",
   "metadata": {},
   "source": [
    "<h4>1.2b OR RUN LOCALLY (THIS WILL TAKE A LONG TIME)</h4>"
   ]
  },
  {
   "cell_type": "code",
   "execution_count": null,
   "metadata": {
    "collapsed": true
   },
   "outputs": [],
   "source": [
    "#Set datahase system variable\n",
    "export BLASTDB=../../data/database/ncbi/"
   ]
  },
  {
   "cell_type": "code",
   "execution_count": null,
   "metadata": {
    "collapsed": true
   },
   "outputs": [],
   "source": [
    "#Blast each contig against nt database\n",
    "for i in `cat ../../doc/IdList.txt`;do ../../bin/ncbi-blast-2.8.1+/bin/blastn -query ../spades/$i/$i.fa -outfmt '10 qacc sacc pident length mismatch gapopen qstart qend sstart send evalue bitscore staxids sscinames scomnames sblastnames sskingdoms' -db nt -num_threads 4 -out $i\".blast\"; done"
   ]
  },
  {
   "cell_type": "markdown",
   "metadata": {},
   "source": [
    "<h2>2 MAPPING SEQUENCING READS TO Spades ASSEMBLY</h2>\n",
    "<p>The sequencing reads of each isolate are mapped to the contigs of their respective assemblies. This step is performed in order to figure out which sequencing reads are part of which contigs.</p>"
   ]
  },
  {
   "cell_type": "markdown",
   "metadata": {},
   "source": [
    "<h3>2a SUBMIT TO SCINET</h3>"
   ]
  },
  {
   "cell_type": "code",
   "execution_count": null,
   "metadata": {
    "collapsed": true
   },
   "outputs": [],
   "source": [
    "#Create BWA jobs\n",
    "for i in `cat ../../doc/IdList.txt`;do echo -e '#!/bin/bash'\"\\n#SBATCH --nodes=1\\n#SBATCH --cpus-per-task=40\\n#SBATCH --time=1:00:00\\n#SBATCH --job-name=deconBwa_jobs-$i\\n#SBATCH --output=deconBwa_job-$i\" > deconBwaJob_$i.sh; echo ../../bin/bwa-0.7.17/bwa index ../../results/spades/$i/$i.fa >> deconBwaJob_$i.sh; echo ../../bin/bwa-0.7.17/bwa mem -t 40 ../../results/spades/$i/$i.fa ../dedupper/$i\"_1.ddp.fq\" ../dedupper/$i\"_2.ddp.fq  > \"$i\".sam\" >> deconBwaJob_$i.sh; done"
   ]
  },
  {
   "cell_type": "code",
   "execution_count": null,
   "metadata": {
    "collapsed": true
   },
   "outputs": [],
   "source": [
    "#Submit bwa job to scinet\n",
    "for i in `cat ../../doc/IdList.txt`;do sbatch deconBwaJob_$i.sh; done"
   ]
  },
  {
   "cell_type": "markdown",
   "metadata": {},
   "source": [
    "<h3>2b OR RUN LOCALLY (THIS WILL TAKE A LONG TIME)</h3>"
   ]
  },
  {
   "cell_type": "code",
   "execution_count": null,
   "metadata": {
    "collapsed": true
   },
   "outputs": [],
   "source": [
    "#Index the Spades assembly and map reads to that genome\n",
    "for i in `cat ../../doc/IdList.txt`; do ../../bin/bwa-0.7.17/bwa index ../../results/spades/$i/$i.fa; echo ../../bin/bwa-0.7.17/bwa mem -t 40 ../../results/spades/$i/$i.fa ../dedupper/$i\"_1.ddp.fq\" ../dedupper/$i\"_2.ddp.fq\"  > $i.sam; done"
   ]
  },
  {
   "cell_type": "markdown",
   "metadata": {},
   "source": [
    "<h2>3 PARSE BLAST RESULTS</h2>\n",
    "<p>This step checks if the contig has a blast hit in the Burkholderia genus. It identifies non-Burkholderia contigs and marks them appropriately. Once this step is completed the results can be plotted with the R jupyter notebook \"<b>4a_CoverageOverLengthPlots</b>\".</p>"
   ]
  },
  {
   "cell_type": "code",
   "execution_count": null,
   "metadata": {
    "collapsed": true
   },
   "outputs": [],
   "source": [
    "# Identify which contigs map to a genus other than Burkholderia\n",
    "for i in `cat ../../doc/IdList.txt`;do ../../bin/blast_parser.py $i\".blast\" \"../spades/\"$i\"/AssemblyMetrics.tsv\" Burkholderia \"ParsedAssemblyMetrics_\"$i\".csv\";done"
   ]
  },
  {
   "cell_type": "markdown",
   "metadata": {},
   "source": [
    "1. Parse blast results\n",
    "./blast_parser.py ../results/decontamination/1a.blast ../results/spades/1a/AssemblyMetrics.tsv Burkholderia AssemblyMetrics_1a.csv\n",
    "\n",
    "2. Identify contigs to remove\n",
    "\n",
    "\n",
    "3. Identify reads in those contigs\n",
    "./read_localizer.py ContigToBeRemoved.txt ../results/decontamination/1a.sam ReadToBeRemoved_1a.txt\n",
    "\n",
    "4. Remove those reads\n",
    "./read_remover.py ReadToBeRemoved_1a.txt ../results/dedupper/1a_1.ddp.fq ../results/dedupper/1a_2.ddp.fq 1a_1.dcn.fq 1a_2.dcn.fq"
   ]
  },
  {
   "cell_type": "code",
   "execution_count": null,
   "metadata": {
    "collapsed": true
   },
   "outputs": [],
   "source": []
  },
  {
   "cell_type": "code",
   "execution_count": null,
   "metadata": {
    "collapsed": true
   },
   "outputs": [],
   "source": []
  },
  {
   "cell_type": "code",
   "execution_count": null,
   "metadata": {
    "collapsed": true
   },
   "outputs": [],
   "source": []
  },
  {
   "cell_type": "code",
   "execution_count": null,
   "metadata": {
    "collapsed": true
   },
   "outputs": [],
   "source": []
  },
  {
   "cell_type": "markdown",
   "metadata": {},
   "source": [
    "Using bwa version 0.7.17\n",
    "https://sourceforge.net/projects/bio-bwa/files/bwa-0.7.17.tar.bz2/download"
   ]
  },
  {
   "cell_type": "code",
   "execution_count": 3,
   "metadata": {
    "collapsed": true
   },
   "outputs": [],
   "source": [
    "#Go into directory including the reference sequences\n",
    "cd data/reference/au0158"
   ]
  },
  {
   "cell_type": "code",
   "execution_count": 4,
   "metadata": {
    "collapsed": false
   },
   "outputs": [
    {
     "name": "stdout",
     "output_type": "stream",
     "text": [
      "bash: bwa: command not found\n"
     ]
    },
    {
     "ename": "",
     "evalue": "127",
     "output_type": "error",
     "traceback": []
    }
   ],
   "source": [
    "#Index the reference sequences file\n",
    "bwa index au0158.fa"
   ]
  },
  {
   "cell_type": "code",
   "execution_count": 5,
   "metadata": {
    "collapsed": true
   },
   "outputs": [],
   "source": [
    "#Go into directory where the results will be saved\n",
    "cd ../../../results/bwa"
   ]
  },
  {
   "cell_type": "code",
   "execution_count": null,
   "metadata": {
    "collapsed": true
   },
   "outputs": [],
   "source": [
    " ../../bwa-0.7.17/bwa mem -M ../../data/reference/au0158/au0158.fa ../../data/wgs/1a_1.fq ../../data/wgs/1a_2.fq > 1a.sam"
   ]
  },
  {
   "cell_type": "code",
   "execution_count": null,
   "metadata": {
    "collapsed": true
   },
   "outputs": [],
   "source": []
  }
 ],
 "metadata": {
  "kernelspec": {
   "display_name": "Bash",
   "language": "bash",
   "name": "bash"
  },
  "language_info": {
   "codemirror_mode": "shell",
   "file_extension": ".sh",
   "mimetype": "text/x-sh",
   "name": "bash"
  }
 },
 "nbformat": 4,
 "nbformat_minor": 2
}
