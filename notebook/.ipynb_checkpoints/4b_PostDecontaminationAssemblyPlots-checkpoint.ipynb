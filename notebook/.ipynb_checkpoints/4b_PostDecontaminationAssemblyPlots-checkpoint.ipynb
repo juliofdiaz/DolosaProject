{
 "cells": [
  {
   "cell_type": "markdown",
   "metadata": {},
   "source": [
    "<h2>LENGTH OVER N50 POST DECONTAMINATION</h2>\n",
    "<p>Figures can be located at:\n",
    "<ul>\n",
    "<li>Summary of all assemblies can be found in <b>figures/AssemblySummary_all.dcn.pdf</b></li>\n",
    "</ul>\n",
    "</p>"
   ]
  },
  {
   "cell_type": "code",
   "execution_count": 2,
   "metadata": {
    "collapsed": false
   },
   "outputs": [],
   "source": [
    "# Get the data\n",
    "data_all <- as.data.frame(read.delim(\"../results/quast/AssemblySummary.dcn.tsv\", sep=\"\\t\", as.is=T, header=TRUE))"
   ]
  },
  {
   "cell_type": "code",
   "execution_count": 4,
   "metadata": {
    "collapsed": false
   },
   "outputs": [
    {
     "data": {
      "text/html": [
       "<strong>pdf:</strong> 2"
      ],
      "text/latex": [
       "\\textbf{pdf:} 2"
      ],
      "text/markdown": [
       "**pdf:** 2"
      ],
      "text/plain": [
       "pdf \n",
       "  2 "
      ]
     },
     "metadata": {},
     "output_type": "display_data"
    }
   ],
   "source": [
    "#Draw plot\n",
    "pdf(\"../figures/AssemblySummary_all.dcn.pdf\")\n",
    "plot(log10(data_all$N50), log10(data_all$TotalLength), pch=21,las=1, col=\"black\", bg=\"grey\",xlab=\"Assembly N50 (log)\", ylab=\"Assembly Length (log)\")\n",
    "dev.off()"
   ]
  },
  {
   "cell_type": "code",
   "execution_count": null,
   "metadata": {
    "collapsed": true
   },
   "outputs": [],
   "source": []
  }
 ],
 "metadata": {
  "kernelspec": {
   "display_name": "R",
   "language": "R",
   "name": "ir"
  },
  "language_info": {
   "codemirror_mode": "r",
   "file_extension": ".r",
   "mimetype": "text/x-r-source",
   "name": "R",
   "pygments_lexer": "r",
   "version": "3.5.1"
  }
 },
 "nbformat": 4,
 "nbformat_minor": 2
}
